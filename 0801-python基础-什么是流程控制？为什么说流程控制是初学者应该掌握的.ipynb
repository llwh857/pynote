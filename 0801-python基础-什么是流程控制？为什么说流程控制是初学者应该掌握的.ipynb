{
 "cells": [
  {
   "cell_type": "markdown",
   "id": "20d1034d-2c04-4365-82e0-34833a45d045",
   "metadata": {},
   "source": [
    "python新手闭坑指南-学会这一招, 理解流程控制不再难!\n",
    "----------\n",
    "\n",
    "- 能学到的知识：如何从简单的生活案例中出发， 了解：流程控制的含义。\n",
    "\n"
   ]
  },
  {
   "cell_type": "markdown",
   "id": "0d3f5a56-4fce-47ab-972f-196fa6949f74",
   "metadata": {},
   "source": [
    "01 流程控制 概念分析\n",
    "-------\n",
    "- 前言：流程控制是基础入门的一个小石头，如果没有透彻理解流程控制含义，有可能在后续学习起来比较吃力。那么我们今天就一起来好好梳理一下什么是流程控制。\n",
    "\n",
    "- 1、流程控制是计算机相关的专业术语， 我们可以理解为：流程控制是计算机编程中的规定。**流程控制不是一个规定， 而是一些规定**。 比如： 顺序，判断， 循环等。\n",
    "- 2、我们使用流程控制里面的规则，编写程序，让计算机**按序执行**我们所写的程序， 达到解决问题的目的。\n"
   ]
  },
  {
   "cell_type": "markdown",
   "id": "53808c38-f506-4459-b8d5-5ae594b708fc",
   "metadata": {},
   "source": [
    "02 如何理解流程控制：\n",
    "------\n",
    "- 1、流程控制是： 解决问题的一系列步骤。\n",
    "- 2、这些解决问题的步骤中包含几种结构：比如顺序，分支，循环。**（下期视频会详细讲解）**\n",
    "\n",
    "- 3、 拓展理解： 计算机就是一个呆子，需要我们编写的程序去驱动他，指挥他。\n",
    "- 4、 拓展理解： 我们编写的程序是解决一个或者一类问题的。 比如： 登录验证（解决用户登录，认证问题）游戏开挂检测（解决游戏安全问题），"
   ]
  },
  {
   "cell_type": "markdown",
   "id": "24032a76-4e59-450a-ba4e-b29e9a4542cc",
   "metadata": {},
   "source": [
    "03 案例：\n",
    "-----\n",
    "- 举例子： 用户登录验证。\n",
    " > - 1. 获取用户名称\n",
    " > - 2. 获取用户密码\n",
    " > - 3. 将获取到的用户名和密码于系统中保存的数据进行对比。\n",
    " > - 4. 如果对比成功，进行下一个步骤。\n",
    " > - 5. 失败的话， 提示用户，重新输入。"
   ]
  },
  {
   "cell_type": "code",
   "execution_count": null,
   "id": "df48daf6-8f95-460c-b710-101d07f86e23",
   "metadata": {},
   "outputs": [],
   "source": []
  }
 ],
 "metadata": {
  "kernelspec": {
   "display_name": "Python 3",
   "language": "python",
   "name": "python3"
  },
  "language_info": {
   "codemirror_mode": {
    "name": "ipython",
    "version": 3
   },
   "file_extension": ".py",
   "mimetype": "text/x-python",
   "name": "python",
   "nbconvert_exporter": "python",
   "pygments_lexer": "ipython3",
   "version": "3.8.3rc1"
  }
 },
 "nbformat": 4,
 "nbformat_minor": 5
}
